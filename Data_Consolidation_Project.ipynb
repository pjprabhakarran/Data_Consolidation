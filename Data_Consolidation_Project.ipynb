{
 "cells": [
  {
   "cell_type": "markdown",
   "id": "70f78a74",
   "metadata": {},
   "source": [
    "### Problem Statement:\n",
    "\n",
    "To verify if the charges levied by their delivery partners per order are correct"
   ]
  },
  {
   "cell_type": "markdown",
   "id": "3419269f",
   "metadata": {},
   "source": [
    "#### Approach:\n",
    "\n",
    "- The data fiels were read in as DataFrame for both LHS (X Company data) & RHS (Courier Company Data) using pandas\n",
    "- The sanity check of data was done to ensure data was consistent\n",
    "- Initiated the process with Order Report of X company, by merging it with the SKU master weight was obtained for SKU\n",
    "- The weight was then converted to KG from G and then weight was groupedby OrderID\n",
    "-\tThen further merged the processed data with courier_invoice to obtain more details on order.\n",
    "-\tTo bring in a chain between the Courier companies data and X the zone of X was obtained from warehouse_pincode dataframe of X company.\n",
    "-\tBased on the available information the Type of Shipment and Zone using f-string and conditional looping the rate applicable to the order was obtained in array\n",
    "-\tThe obtained array values were then mapped to the data frame and expected charges of x was calculated.\n",
    "-\tThen the difference in rate between X and Courier was calculated\n",
    "-\tFrom which we had all the required information for Output data 1 and the same was constructed\n",
    "-\tThen a summary table was created by categorising the orders to Correct, Overcharged and Undercharged\n",
    "-\tThis was the summary table extract from the data the Output data 2\n",
    "-\tFinally, both the dataframes of Output data 1 & 2 were written to storage as csv files using pandas"
   ]
  },
  {
   "cell_type": "markdown",
   "id": "7ff1b0de",
   "metadata": {},
   "source": [
    "### Importing Packages"
   ]
  },
  {
   "cell_type": "code",
   "execution_count": 1,
   "id": "7a9b46e5",
   "metadata": {},
   "outputs": [],
   "source": [
    "import pandas as pd"
   ]
  },
  {
   "cell_type": "markdown",
   "id": "1836d73e",
   "metadata": {},
   "source": [
    "### Importing Data"
   ]
  },
  {
   "cell_type": "markdown",
   "id": "1393d2d4",
   "metadata": {},
   "source": [
    "#### LHS Data (X's internal data spread across three reports)"
   ]
  },
  {
   "cell_type": "code",
   "execution_count": 2,
   "id": "4e7f4bc1",
   "metadata": {},
   "outputs": [],
   "source": [
    "# Order Report - Orderids, SKU's (Stock keeping Units) and order quantity for each order\n",
    "X_order_report = pd.read_excel(\"C:/Users/pjpra/OneDrive/Desktop/My_Learnings/Interview/Cointab/Cointab Data Analyst - Challenge/Company X - Order Report.xlsx\")\n",
    "\n",
    "# SKU Master - Gross weight of each product\n",
    "X_sku_master = pd.read_excel(\"C:/Users/pjpra/OneDrive/Desktop/My_Learnings/Interview/Cointab/Cointab Data Analyst - Challenge/Company X - SKU Master.xlsx\")\n",
    "\n",
    "# All India Pincode for warehouse/customer pincode and corresponding zone\n",
    "X_pin_code_z = pd.read_excel(\"C:/Users/pjpra/OneDrive/Desktop/My_Learnings/Interview/Cointab/Cointab Data Analyst - Challenge/Company X - Pincode Zones.xlsx\")"
   ]
  },
  {
   "cell_type": "markdown",
   "id": "c28b90b5",
   "metadata": {},
   "source": [
    "#### Sanity Check of LHS Data"
   ]
  },
  {
   "cell_type": "code",
   "execution_count": 3,
   "id": "e01aeb12",
   "metadata": {
    "scrolled": true
   },
   "outputs": [
    {
     "name": "stdout",
     "output_type": "stream",
     "text": [
      "Index(['ExternOrderNo', 'SKU', 'Order Qty'], dtype='object')\n",
      "ExternOrderNo    0\n",
      "SKU              0\n",
      "Order Qty        0\n",
      "dtype: int64\n",
      "65\n",
      "[1. 2. 4. 3. 8. 6.]\n",
      "(400, 3)\n",
      "   ExternOrderNo            SKU  Order Qty\n",
      "0     2001827036  8904223818706        1.0\n",
      "1     2001827036  8904223819093        1.0\n",
      "124 400\n"
     ]
    }
   ],
   "source": [
    "print(X_order_report.columns)\n",
    "print(X_order_report.isnull().sum())\n",
    "print(X_order_report.SKU.nunique())\n",
    "print(X_order_report['Order Qty'].unique())\n",
    "print(X_order_report.shape)\n",
    "print(X_order_report.head(2))\n",
    "print(X_order_report['ExternOrderNo'].nunique(), X_order_report['ExternOrderNo'].count())"
   ]
  },
  {
   "cell_type": "code",
   "execution_count": 4,
   "id": "f8e09604",
   "metadata": {},
   "outputs": [
    {
     "name": "stdout",
     "output_type": "stream",
     "text": [
      "Index(['SKU', 'Weight (g)'], dtype='object')\n",
      "65\n",
      "[210 165 113  65 120 102 170 350 115 150 137 240 121 127 160 232 100 490\n",
      " 133 112 110  30 140 290 552 500 250 130 600 300  10]\n",
      "31\n",
      "(66, 2)\n"
     ]
    },
    {
     "data": {
      "text/plain": [
       "SKU           0\n",
       "Weight (g)    0\n",
       "dtype: int64"
      ]
     },
     "execution_count": 4,
     "metadata": {},
     "output_type": "execute_result"
    }
   ],
   "source": [
    "X_sku_master.head(2)\n",
    "print(X_sku_master.columns)\n",
    "print(X_sku_master.SKU.nunique())\n",
    "print(X_sku_master['Weight (g)'].unique())\n",
    "print(X_sku_master['Weight (g)'].nunique())\n",
    "print(X_sku_master.shape)\n",
    "X_sku_master.isnull().sum()"
   ]
  },
  {
   "cell_type": "code",
   "execution_count": 5,
   "id": "ea541494",
   "metadata": {
    "scrolled": true
   },
   "outputs": [
    {
     "name": "stdout",
     "output_type": "stream",
     "text": [
      "Index(['Warehouse Pincode', 'Customer Pincode', 'Zone'], dtype='object')\n",
      "1\n",
      "108\n",
      "['d' 'b' 'e']\n",
      "(124, 3)\n"
     ]
    },
    {
     "data": {
      "text/plain": [
       "Warehouse Pincode    0\n",
       "Customer Pincode     0\n",
       "Zone                 0\n",
       "dtype: int64"
      ]
     },
     "execution_count": 5,
     "metadata": {},
     "output_type": "execute_result"
    }
   ],
   "source": [
    "X_pin_code_z.head(2)\n",
    "print(X_pin_code_z.columns)\n",
    "print(X_pin_code_z['Warehouse Pincode'].nunique())\n",
    "print(X_pin_code_z['Customer Pincode'].nunique())\n",
    "print(X_pin_code_z['Zone'].unique())\n",
    "print(X_pin_code_z.shape)\n",
    "X_pin_code_z.isnull().sum()"
   ]
  },
  {
   "cell_type": "code",
   "execution_count": 6,
   "id": "36903597",
   "metadata": {},
   "outputs": [],
   "source": [
    "X_pin_code_z.rename(columns = {'Zone':'Zone by X'}, inplace = True)"
   ]
  },
  {
   "cell_type": "markdown",
   "id": "e27258b7",
   "metadata": {},
   "source": [
    "#### RHS Data (Courier company invoice in CSV file)"
   ]
  },
  {
   "cell_type": "code",
   "execution_count": 7,
   "id": "08e0c718",
   "metadata": {},
   "outputs": [],
   "source": [
    "Courier_invoice = pd.read_excel(\"C:/Users/pjpra/OneDrive/Desktop/My_Learnings/Interview/Cointab/Cointab Data Analyst - Challenge/Courier Company - Invoice.xlsx\")\n",
    "Courier_rates = pd.read_excel(\"C:/Users/pjpra/OneDrive/Desktop/My_Learnings/Interview/Cointab/Cointab Data Analyst - Challenge/Courier Company - Rates.xlsx\")"
   ]
  },
  {
   "cell_type": "markdown",
   "id": "36956331",
   "metadata": {},
   "source": [
    "#### Sanity Check of RHS data"
   ]
  },
  {
   "cell_type": "code",
   "execution_count": 8,
   "id": "889352ba",
   "metadata": {
    "scrolled": true
   },
   "outputs": [
    {
     "name": "stdout",
     "output_type": "stream",
     "text": [
      "AWB Code                0\n",
      "Order ID                0\n",
      "Charged Weight          0\n",
      "Warehouse Pincode       0\n",
      "Customer Pincode        0\n",
      "Zone                    0\n",
      "Type of Shipment        0\n",
      "Billing Amount (Rs.)    0\n",
      "dtype: int64\n",
      "\n",
      "Columns:\n",
      " Index(['AWB Code', 'Order ID', 'Charged Weight', 'Warehouse Pincode',\n",
      "       'Customer Pincode', 'Zone', 'Type of Shipment', 'Billing Amount (Rs.)'],\n",
      "      dtype='object')\n",
      "\n",
      "AWB Code:\n",
      " 124 124\n",
      "\n",
      "Order ID:\n",
      " 124 124\n",
      "\n",
      "Zone\n",
      " ['d' 'b' 'e']\n",
      "\n",
      "Type of Shipment:\n",
      " ['Forward charges' 'Forward and RTO charges']\n",
      "\n",
      "Billing Amount:\n",
      " [135.   90.2 224.6  61.3  45.4  89.6  33.  107.3 172.8 102.3 213.5 258.9\n",
      " 151.1 345.  174.5 179.8 269.4  86.7 117.9 403.8]\n",
      "\n",
      "Charged Weight:\n",
      " [1.3  1.   2.5  0.15 1.15 0.5  0.79 0.72 1.08 1.28 0.2  0.86 1.2  0.7\n",
      " 0.6  0.99 0.8  1.6  1.13 2.92 0.68 0.71 0.78 1.27 0.69 1.16 2.86 1.35\n",
      " 1.64 0.67 2.   1.5  3.   1.7  0.77 0.76 0.59 2.94 0.61 2.1  1.1  0.3\n",
      " 1.02 2.28 0.74 4.13 0.73 1.04 1.63 2.47 0.82 0.66 1.86 2.27]\n"
     ]
    }
   ],
   "source": [
    "print(Courier_invoice.isnull().sum())\n",
    "print(\"\\nColumns:\\n\",Courier_invoice.columns)\n",
    "\n",
    "# Check if the unique fields are unique\n",
    "print(\"\\nAWB Code:\\n\",Courier_invoice['AWB Code'].nunique(), Courier_invoice['AWB Code'].count())\n",
    "print(\"\\nOrder ID:\\n\",Courier_invoice['Order ID'].nunique(), Courier_invoice['Order ID'].count())\n",
    "\n",
    "print(\"\\nZone\\n\",Courier_invoice['Zone'].unique())\n",
    "print(\"\\nType of Shipment:\\n\", Courier_invoice['Type of Shipment'].unique())\n",
    "\n",
    "print(\"\\nBilling Amount:\\n\",Courier_invoice['Billing Amount (Rs.)'].unique())\n",
    "print(\"\\nCharged Weight:\\n\",Courier_invoice['Charged Weight'].unique())"
   ]
  },
  {
   "cell_type": "code",
   "execution_count": 9,
   "id": "275b9cc8",
   "metadata": {},
   "outputs": [
    {
     "data": {
      "text/html": [
       "<div>\n",
       "<style scoped>\n",
       "    .dataframe tbody tr th:only-of-type {\n",
       "        vertical-align: middle;\n",
       "    }\n",
       "\n",
       "    .dataframe tbody tr th {\n",
       "        vertical-align: top;\n",
       "    }\n",
       "\n",
       "    .dataframe thead th {\n",
       "        text-align: right;\n",
       "    }\n",
       "</style>\n",
       "<table border=\"1\" class=\"dataframe\">\n",
       "  <thead>\n",
       "    <tr style=\"text-align: right;\">\n",
       "      <th></th>\n",
       "      <th>fwd_a_fixed</th>\n",
       "      <th>fwd_a_additional</th>\n",
       "      <th>fwd_b_fixed</th>\n",
       "      <th>fwd_b_additional</th>\n",
       "      <th>fwd_c_fixed</th>\n",
       "      <th>fwd_c_additional</th>\n",
       "      <th>fwd_d_fixed</th>\n",
       "      <th>fwd_d_additional</th>\n",
       "      <th>fwd_e_fixed</th>\n",
       "      <th>fwd_e_additional</th>\n",
       "      <th>rto_a_fixed</th>\n",
       "      <th>rto_a_additional</th>\n",
       "      <th>rto_b_fixed</th>\n",
       "      <th>rto_b_additional</th>\n",
       "      <th>rto_c_fixed</th>\n",
       "      <th>rto_c_additional</th>\n",
       "      <th>rto_d_fixed</th>\n",
       "      <th>rto_d_additional</th>\n",
       "      <th>rto_e_fixed</th>\n",
       "      <th>rto_e_additional</th>\n",
       "    </tr>\n",
       "  </thead>\n",
       "  <tbody>\n",
       "    <tr>\n",
       "      <th>0</th>\n",
       "      <td>29.5</td>\n",
       "      <td>23.6</td>\n",
       "      <td>33</td>\n",
       "      <td>28.3</td>\n",
       "      <td>40.1</td>\n",
       "      <td>38.9</td>\n",
       "      <td>45.4</td>\n",
       "      <td>44.8</td>\n",
       "      <td>56.6</td>\n",
       "      <td>55.5</td>\n",
       "      <td>13.6</td>\n",
       "      <td>23.6</td>\n",
       "      <td>20.5</td>\n",
       "      <td>28.3</td>\n",
       "      <td>31.9</td>\n",
       "      <td>38.9</td>\n",
       "      <td>41.3</td>\n",
       "      <td>44.8</td>\n",
       "      <td>50.7</td>\n",
       "      <td>55.5</td>\n",
       "    </tr>\n",
       "  </tbody>\n",
       "</table>\n",
       "</div>"
      ],
      "text/plain": [
       "   fwd_a_fixed  fwd_a_additional  fwd_b_fixed  fwd_b_additional  fwd_c_fixed  \\\n",
       "0         29.5              23.6           33              28.3         40.1   \n",
       "\n",
       "   fwd_c_additional  fwd_d_fixed  fwd_d_additional  fwd_e_fixed  \\\n",
       "0              38.9         45.4              44.8         56.6   \n",
       "\n",
       "   fwd_e_additional  rto_a_fixed  rto_a_additional  rto_b_fixed  \\\n",
       "0              55.5         13.6              23.6         20.5   \n",
       "\n",
       "   rto_b_additional  rto_c_fixed  rto_c_additional  rto_d_fixed  \\\n",
       "0              28.3         31.9              38.9         41.3   \n",
       "\n",
       "   rto_d_additional  rto_e_fixed  rto_e_additional  \n",
       "0              44.8         50.7              55.5  "
      ]
     },
     "execution_count": 9,
     "metadata": {},
     "output_type": "execute_result"
    }
   ],
   "source": [
    "Courier_rates.head()"
   ]
  },
  {
   "cell_type": "code",
   "execution_count": 10,
   "id": "b4319ebe",
   "metadata": {},
   "outputs": [],
   "source": [
    "# For construction of output data 1\n",
    "sample_df = pd.read_excel(\"C:/Users/pjpra/OneDrive/Desktop/My_Learnings/Interview/Cointab/Cointab Data Analyst - Challenge/Expected_Result.xlsx\", sheet_name='Calculations')\n",
    "Output_Data1 = pd.DataFrame(columns=sample_df.columns)"
   ]
  },
  {
   "cell_type": "markdown",
   "id": "e67efa61",
   "metadata": {},
   "source": [
    "### Data Consolidation"
   ]
  },
  {
   "cell_type": "code",
   "execution_count": 11,
   "id": "607e1652",
   "metadata": {},
   "outputs": [],
   "source": [
    "# Merge X_order_report & X_sku_master\n",
    "merge1 = pd.merge(X_order_report,X_sku_master,on='SKU')"
   ]
  },
  {
   "cell_type": "code",
   "execution_count": 12,
   "id": "3e2462b2",
   "metadata": {},
   "outputs": [
    {
     "data": {
      "text/html": [
       "<div>\n",
       "<style scoped>\n",
       "    .dataframe tbody tr th:only-of-type {\n",
       "        vertical-align: middle;\n",
       "    }\n",
       "\n",
       "    .dataframe tbody tr th {\n",
       "        vertical-align: top;\n",
       "    }\n",
       "\n",
       "    .dataframe thead th {\n",
       "        text-align: right;\n",
       "    }\n",
       "</style>\n",
       "<table border=\"1\" class=\"dataframe\">\n",
       "  <thead>\n",
       "    <tr style=\"text-align: right;\">\n",
       "      <th></th>\n",
       "      <th>ExternOrderNo</th>\n",
       "      <th>SKU</th>\n",
       "      <th>Order Qty</th>\n",
       "      <th>Weight (g)</th>\n",
       "      <th>Total_weight (KG)</th>\n",
       "    </tr>\n",
       "  </thead>\n",
       "  <tbody>\n",
       "    <tr>\n",
       "      <th>0</th>\n",
       "      <td>2001827036</td>\n",
       "      <td>8904223818706</td>\n",
       "      <td>1.0</td>\n",
       "      <td>127</td>\n",
       "      <td>0.127</td>\n",
       "    </tr>\n",
       "    <tr>\n",
       "      <th>1</th>\n",
       "      <td>2001821995</td>\n",
       "      <td>8904223818706</td>\n",
       "      <td>1.0</td>\n",
       "      <td>127</td>\n",
       "      <td>0.127</td>\n",
       "    </tr>\n",
       "  </tbody>\n",
       "</table>\n",
       "</div>"
      ],
      "text/plain": [
       "   ExternOrderNo            SKU  Order Qty  Weight (g)  Total_weight (KG)\n",
       "0     2001827036  8904223818706        1.0         127              0.127\n",
       "1     2001821995  8904223818706        1.0         127              0.127"
      ]
     },
     "execution_count": 12,
     "metadata": {},
     "output_type": "execute_result"
    }
   ],
   "source": [
    "# Obtain weight from G to KG\n",
    "merge1['Total_weight (KG)'] = (merge1['Order Qty'] * merge1['Weight (g)']) / 1000\n",
    "merge1.head(2)"
   ]
  },
  {
   "cell_type": "code",
   "execution_count": 13,
   "id": "e248056e",
   "metadata": {},
   "outputs": [],
   "source": [
    "# Group Data by Order_ID\n",
    "gp_byorder = merge1.groupby('ExternOrderNo')['Total_weight (KG)'].sum().reset_index()\n",
    "gp_byorder.head(1)\n",
    "gp_byorder.dtypes\n",
    "# Find Weight_slab\n",
    "slab_scale = {0: 0, 0.001: 0.5, 0.501: 1, 1.0 : 1.5, 1.51 : 2, 2.0 : 2.5}\n",
    "gp_byorder['Weight_slab'] = gp_byorder['Total_weight (KG)'].apply(lambda x: slab_scale[max(k for k in slab_scale.keys() if k <= x)] if x > 0 else 0)\n",
    "gp_byorder = gp_byorder.rename(columns = {'ExternOrderNo':'Order ID','Total_weight (KG)':'Total weight by x (kg)','Weight_slab':'Weight slab by X'})"
   ]
  },
  {
   "cell_type": "code",
   "execution_count": 14,
   "id": "b82df37f",
   "metadata": {},
   "outputs": [
    {
     "data": {
      "text/plain": [
       "Order ID                  124\n",
       "Total weight by x (kg)    124\n",
       "Weight slab by X          124\n",
       "dtype: int64"
      ]
     },
     "execution_count": 14,
     "metadata": {},
     "output_type": "execute_result"
    }
   ],
   "source": [
    "# Value Check\n",
    "gp_byorder.count()"
   ]
  },
  {
   "cell_type": "code",
   "execution_count": 15,
   "id": "e5394ecd",
   "metadata": {},
   "outputs": [
    {
     "data": {
      "text/plain": [
       "array(['Forward charges', 'Forward and RTO charges'], dtype=object)"
      ]
     },
     "execution_count": 15,
     "metadata": {},
     "output_type": "execute_result"
    }
   ],
   "source": [
    "# Merge gp_byorder to courier_invoice\n",
    "merge2 = pd.merge(gp_byorder, Courier_invoice,on = 'Order ID')\n",
    "merge2.isnull().sum()\n",
    "merge2['Order ID'].nunique()\n",
    "merge2.shape\n",
    "merge2.columns\n",
    "merge2.count()\n",
    "merge2['Type of Shipment'].unique()"
   ]
  },
  {
   "cell_type": "code",
   "execution_count": 16,
   "id": "ca92c322",
   "metadata": {},
   "outputs": [
    {
     "data": {
      "text/html": [
       "<div>\n",
       "<style scoped>\n",
       "    .dataframe tbody tr th:only-of-type {\n",
       "        vertical-align: middle;\n",
       "    }\n",
       "\n",
       "    .dataframe tbody tr th {\n",
       "        vertical-align: top;\n",
       "    }\n",
       "\n",
       "    .dataframe thead th {\n",
       "        text-align: right;\n",
       "    }\n",
       "</style>\n",
       "<table border=\"1\" class=\"dataframe\">\n",
       "  <thead>\n",
       "    <tr style=\"text-align: right;\">\n",
       "      <th></th>\n",
       "      <th>Order ID</th>\n",
       "      <th>Total weight by x (kg)</th>\n",
       "      <th>Weight slab by X</th>\n",
       "      <th>AWB Code</th>\n",
       "      <th>Charged Weight</th>\n",
       "      <th>Warehouse Pincode</th>\n",
       "      <th>Customer Pincode</th>\n",
       "      <th>Zone</th>\n",
       "      <th>Type of Shipment</th>\n",
       "      <th>Billing Amount (Rs.)</th>\n",
       "      <th>Zone by X</th>\n",
       "      <th>Weight slab charged by Courier Company</th>\n",
       "    </tr>\n",
       "  </thead>\n",
       "  <tbody>\n",
       "    <tr>\n",
       "      <th>0</th>\n",
       "      <td>2001806210</td>\n",
       "      <td>0.220</td>\n",
       "      <td>0.5</td>\n",
       "      <td>1091117221940</td>\n",
       "      <td>2.92</td>\n",
       "      <td>121003</td>\n",
       "      <td>140604</td>\n",
       "      <td>b</td>\n",
       "      <td>Forward charges</td>\n",
       "      <td>174.5</td>\n",
       "      <td>b</td>\n",
       "      <td>2.5</td>\n",
       "    </tr>\n",
       "    <tr>\n",
       "      <th>1</th>\n",
       "      <td>2001806226</td>\n",
       "      <td>0.480</td>\n",
       "      <td>0.5</td>\n",
       "      <td>1091117222065</td>\n",
       "      <td>0.68</td>\n",
       "      <td>121003</td>\n",
       "      <td>723146</td>\n",
       "      <td>d</td>\n",
       "      <td>Forward charges</td>\n",
       "      <td>90.2</td>\n",
       "      <td>d</td>\n",
       "      <td>1.0</td>\n",
       "    </tr>\n",
       "    <tr>\n",
       "      <th>2</th>\n",
       "      <td>2001806229</td>\n",
       "      <td>0.500</td>\n",
       "      <td>0.5</td>\n",
       "      <td>1091117222080</td>\n",
       "      <td>0.71</td>\n",
       "      <td>121003</td>\n",
       "      <td>421204</td>\n",
       "      <td>d</td>\n",
       "      <td>Forward charges</td>\n",
       "      <td>90.2</td>\n",
       "      <td>d</td>\n",
       "      <td>1.0</td>\n",
       "    </tr>\n",
       "    <tr>\n",
       "      <th>3</th>\n",
       "      <td>2001806232</td>\n",
       "      <td>1.302</td>\n",
       "      <td>1.5</td>\n",
       "      <td>1091117222124</td>\n",
       "      <td>1.30</td>\n",
       "      <td>121003</td>\n",
       "      <td>507101</td>\n",
       "      <td>d</td>\n",
       "      <td>Forward charges</td>\n",
       "      <td>135.0</td>\n",
       "      <td>d</td>\n",
       "      <td>1.5</td>\n",
       "    </tr>\n",
       "  </tbody>\n",
       "</table>\n",
       "</div>"
      ],
      "text/plain": [
       "     Order ID  Total weight by x (kg)  Weight slab by X       AWB Code  \\\n",
       "0  2001806210                   0.220               0.5  1091117221940   \n",
       "1  2001806226                   0.480               0.5  1091117222065   \n",
       "2  2001806229                   0.500               0.5  1091117222080   \n",
       "3  2001806232                   1.302               1.5  1091117222124   \n",
       "\n",
       "   Charged Weight  Warehouse Pincode  Customer Pincode Zone Type of Shipment  \\\n",
       "0            2.92             121003            140604    b  Forward charges   \n",
       "1            0.68             121003            723146    d  Forward charges   \n",
       "2            0.71             121003            421204    d  Forward charges   \n",
       "3            1.30             121003            507101    d  Forward charges   \n",
       "\n",
       "   Billing Amount (Rs.) Zone by X  Weight slab charged by Courier Company  \n",
       "0                 174.5         b                                     2.5  \n",
       "1                  90.2         d                                     1.0  \n",
       "2                  90.2         d                                     1.0  \n",
       "3                 135.0         d                                     1.5  "
      ]
     },
     "execution_count": 16,
     "metadata": {},
     "output_type": "execute_result"
    }
   ],
   "source": [
    "# Merge Merge2 & X_pin_code_z to add zone by x\n",
    "merge3 = pd.merge(merge2,X_pin_code_z, on = ['Warehouse Pincode','Customer Pincode'])\n",
    "slab_scale = {0: 0, 0.001: 0.5, 0.501: 1, 1.0 : 1.5, 1.51 : 2, 2.0 : 2.5}\n",
    "merge3['Weight slab charged by Courier Company'] = (merge3['Charged Weight']).apply(lambda x: slab_scale[max(k for k in slab_scale.keys() if k <= x)] if x > 0 else 0)\n",
    "merge3.drop_duplicates(inplace = True)\n",
    "merge3.head(4)"
   ]
  },
  {
   "cell_type": "markdown",
   "id": "4a514836",
   "metadata": {},
   "source": [
    "#### Calculation of Expected Charges as per X"
   ]
  },
  {
   "cell_type": "code",
   "execution_count": 17,
   "id": "c4d86345",
   "metadata": {},
   "outputs": [],
   "source": [
    "# Code to parse values based on each order in order table to base cost table\n",
    "calc_cost = merge3\n",
    "tempx = Courier_rates.melt(var_name='description', value_name='value')\n",
    "tempx.description.unique()\n",
    "fwd_fixed,fwd_additional,rto_fixed,rto_additional = [],[],[],[]\n",
    "for i in range(len(calc_cost)):\n",
    "    if (calc_cost.iloc[i,8] == 'Forward charges') & (calc_cost.iloc[i,2] <= 0.5):\n",
    "        cost1 = f'fwd_{calc_cost.iloc[i,10]}_fixed'\n",
    "        fwd_fixed.append(float(tempx.loc[tempx['description'] == cost1 , 'value'].values))\n",
    "        fwd_additional.append(0)\n",
    "        rto_fixed.append(0)\n",
    "        rto_additional.append(0)\n",
    "    elif (calc_cost.iloc[i,8] == 'Forward charges') & (calc_cost.iloc[i,2] > 0.5):\n",
    "        cost1 = f'fwd_{calc_cost.iloc[i,10]}_fixed'\n",
    "        cost2 = f'fwd_{calc_cost.iloc[i,10]}_additional'\n",
    "        fwd_fixed.append(float(tempx.loc[tempx['description'] == cost1 , 'value'].values))\n",
    "        fwd_additional.append(float((tempx.loc[tempx['description'] == cost2 , 'value'].values)*(calc_cost.iloc[i,2] - 0.5)))\n",
    "        rto_fixed.append(0)\n",
    "        rto_additional.append(0)\n",
    "    elif (calc_cost.iloc[i,8] == 'Forward and RTO charges') & (calc_cost.iloc[i,2] < 0.5):\n",
    "        cost1 = f'fwd_{calc_cost.iloc[i,10]}_fixed'\n",
    "        cost3 = f'rto_{calc_cost.iloc[i,10]}_fixed'\n",
    "        fwd_fixed.append(float(tempx.loc[tempx['description'] == cost1 , 'value'].values))\n",
    "        fwd_additional.append(0)\n",
    "        rto_fixed.append(float(tempx.loc[tempx['description'] == cost3 , 'value'].values))\n",
    "        rto_additional.append(0)\n",
    "    else:\n",
    "        cost1 = f'fwd_{calc_cost.iloc[i,10]}_fixed'\n",
    "        cost2 = f'fwd_{calc_cost.iloc[i,10]}_additional'\n",
    "        cost3 = f'rto_{calc_cost.iloc[i,10]}_fixed'\n",
    "        cost4 = f'rto_{calc_cost.iloc[i,10]}_additional'\n",
    "        fwd_fixed.append(float(tempx.loc[tempx['description'] == cost1 , 'value'].values))\n",
    "        fwd_additional.append(float((tempx.loc[tempx['description'] == cost2 , 'value'].values)*(calc_cost.iloc[i,2] - 0.5)))\n",
    "        rto_fixed.append(float(tempx.loc[tempx['description'] == cost3 , 'value'].values))\n",
    "        rto_additional.append(float((tempx.loc[tempx['description'] == cost4 , 'value'].values)*(calc_cost.iloc[i,2] - 0.5)))"
   ]
  },
  {
   "cell_type": "code",
   "execution_count": 18,
   "id": "c9cd2cd0",
   "metadata": {},
   "outputs": [],
   "source": [
    "# Creation of columns with extracted cost information of each order\n",
    "calc_cost2 = calc_cost.drop(calc_cost.iloc[:,1:], axis =1)\n",
    "calc_cost2['FWD Cost fixed'] = fwd_fixed\n",
    "calc_cost2['FWD Cost additional'] = fwd_additional\n",
    "calc_cost2['RTO Cost fixed'] = rto_fixed\n",
    "calc_cost2['RTO Cost additional'] = rto_additional\n",
    "calc_cost2['Expected charges as per X (Rs.)'] = calc_cost2['FWD Cost fixed'] + calc_cost2['FWD Cost additional'] + calc_cost2['RTO Cost fixed'] + calc_cost2['RTO Cost additional']"
   ]
  },
  {
   "cell_type": "code",
   "execution_count": 19,
   "id": "65ef84e0",
   "metadata": {},
   "outputs": [
    {
     "data": {
      "text/html": [
       "<div>\n",
       "<style scoped>\n",
       "    .dataframe tbody tr th:only-of-type {\n",
       "        vertical-align: middle;\n",
       "    }\n",
       "\n",
       "    .dataframe tbody tr th {\n",
       "        vertical-align: top;\n",
       "    }\n",
       "\n",
       "    .dataframe thead th {\n",
       "        text-align: right;\n",
       "    }\n",
       "</style>\n",
       "<table border=\"1\" class=\"dataframe\">\n",
       "  <thead>\n",
       "    <tr style=\"text-align: right;\">\n",
       "      <th></th>\n",
       "      <th>Order ID</th>\n",
       "      <th>Total weight by x (kg)</th>\n",
       "      <th>Weight slab by X</th>\n",
       "      <th>AWB Code</th>\n",
       "      <th>Charged Weight</th>\n",
       "      <th>Warehouse Pincode</th>\n",
       "      <th>Customer Pincode</th>\n",
       "      <th>Zone</th>\n",
       "      <th>Type of Shipment</th>\n",
       "      <th>Billing Amount (Rs.)</th>\n",
       "      <th>Zone by X</th>\n",
       "      <th>Weight slab charged by Courier Company</th>\n",
       "      <th>Expected charges as per X (Rs.)</th>\n",
       "    </tr>\n",
       "  </thead>\n",
       "  <tbody>\n",
       "    <tr>\n",
       "      <th>0</th>\n",
       "      <td>2001806210</td>\n",
       "      <td>0.22</td>\n",
       "      <td>0.5</td>\n",
       "      <td>1091117221940</td>\n",
       "      <td>2.92</td>\n",
       "      <td>121003</td>\n",
       "      <td>140604</td>\n",
       "      <td>b</td>\n",
       "      <td>Forward charges</td>\n",
       "      <td>174.5</td>\n",
       "      <td>b</td>\n",
       "      <td>2.5</td>\n",
       "      <td>33.0</td>\n",
       "    </tr>\n",
       "    <tr>\n",
       "      <th>1</th>\n",
       "      <td>2001806226</td>\n",
       "      <td>0.48</td>\n",
       "      <td>0.5</td>\n",
       "      <td>1091117222065</td>\n",
       "      <td>0.68</td>\n",
       "      <td>121003</td>\n",
       "      <td>723146</td>\n",
       "      <td>d</td>\n",
       "      <td>Forward charges</td>\n",
       "      <td>90.2</td>\n",
       "      <td>d</td>\n",
       "      <td>1.0</td>\n",
       "      <td>45.4</td>\n",
       "    </tr>\n",
       "  </tbody>\n",
       "</table>\n",
       "</div>"
      ],
      "text/plain": [
       "     Order ID  Total weight by x (kg)  Weight slab by X       AWB Code  \\\n",
       "0  2001806210                    0.22               0.5  1091117221940   \n",
       "1  2001806226                    0.48               0.5  1091117222065   \n",
       "\n",
       "   Charged Weight  Warehouse Pincode  Customer Pincode Zone Type of Shipment  \\\n",
       "0            2.92             121003            140604    b  Forward charges   \n",
       "1            0.68             121003            723146    d  Forward charges   \n",
       "\n",
       "   Billing Amount (Rs.) Zone by X  Weight slab charged by Courier Company  \\\n",
       "0                 174.5         b                                     2.5   \n",
       "1                  90.2         d                                     1.0   \n",
       "\n",
       "   Expected charges as per X (Rs.)  \n",
       "0                             33.0  \n",
       "1                             45.4  "
      ]
     },
     "execution_count": 19,
     "metadata": {},
     "output_type": "execute_result"
    }
   ],
   "source": [
    "# Inclusion of the charges as per x to main work table\n",
    "temp1 = calc_cost2[['Order ID','Expected charges as per X (Rs.)']]\n",
    "merge4 = pd.merge(merge3, temp1, on = 'Order ID')\n",
    "merge4.head(2)"
   ]
  },
  {
   "cell_type": "code",
   "execution_count": 20,
   "id": "d7d049c6",
   "metadata": {
    "scrolled": true
   },
   "outputs": [
    {
     "data": {
      "text/html": [
       "<div>\n",
       "<style scoped>\n",
       "    .dataframe tbody tr th:only-of-type {\n",
       "        vertical-align: middle;\n",
       "    }\n",
       "\n",
       "    .dataframe tbody tr th {\n",
       "        vertical-align: top;\n",
       "    }\n",
       "\n",
       "    .dataframe thead th {\n",
       "        text-align: right;\n",
       "    }\n",
       "</style>\n",
       "<table border=\"1\" class=\"dataframe\">\n",
       "  <thead>\n",
       "    <tr style=\"text-align: right;\">\n",
       "      <th></th>\n",
       "      <th>Order ID</th>\n",
       "      <th>Total weight by x (kg)</th>\n",
       "      <th>Weight slab by X</th>\n",
       "      <th>AWB Code</th>\n",
       "      <th>Charged Weight</th>\n",
       "      <th>Warehouse Pincode</th>\n",
       "      <th>Customer Pincode</th>\n",
       "      <th>Zone</th>\n",
       "      <th>Type of Shipment</th>\n",
       "      <th>Billing Amount (Rs.)</th>\n",
       "      <th>Zone by X</th>\n",
       "      <th>Weight slab charged by Courier Company</th>\n",
       "      <th>Expected charges as per X (Rs.)</th>\n",
       "      <th>Difference Between Expected Charges and Billed Charges (Rs.)</th>\n",
       "    </tr>\n",
       "  </thead>\n",
       "  <tbody>\n",
       "    <tr>\n",
       "      <th>0</th>\n",
       "      <td>2001806210</td>\n",
       "      <td>0.220</td>\n",
       "      <td>0.5</td>\n",
       "      <td>1091117221940</td>\n",
       "      <td>2.92</td>\n",
       "      <td>121003</td>\n",
       "      <td>140604</td>\n",
       "      <td>b</td>\n",
       "      <td>Forward charges</td>\n",
       "      <td>174.5</td>\n",
       "      <td>b</td>\n",
       "      <td>2.5</td>\n",
       "      <td>33.0</td>\n",
       "      <td>141.5</td>\n",
       "    </tr>\n",
       "    <tr>\n",
       "      <th>1</th>\n",
       "      <td>2001806226</td>\n",
       "      <td>0.480</td>\n",
       "      <td>0.5</td>\n",
       "      <td>1091117222065</td>\n",
       "      <td>0.68</td>\n",
       "      <td>121003</td>\n",
       "      <td>723146</td>\n",
       "      <td>d</td>\n",
       "      <td>Forward charges</td>\n",
       "      <td>90.2</td>\n",
       "      <td>d</td>\n",
       "      <td>1.0</td>\n",
       "      <td>45.4</td>\n",
       "      <td>44.8</td>\n",
       "    </tr>\n",
       "    <tr>\n",
       "      <th>2</th>\n",
       "      <td>2001806229</td>\n",
       "      <td>0.500</td>\n",
       "      <td>0.5</td>\n",
       "      <td>1091117222080</td>\n",
       "      <td>0.71</td>\n",
       "      <td>121003</td>\n",
       "      <td>421204</td>\n",
       "      <td>d</td>\n",
       "      <td>Forward charges</td>\n",
       "      <td>90.2</td>\n",
       "      <td>d</td>\n",
       "      <td>1.0</td>\n",
       "      <td>45.4</td>\n",
       "      <td>44.8</td>\n",
       "    </tr>\n",
       "    <tr>\n",
       "      <th>3</th>\n",
       "      <td>2001806232</td>\n",
       "      <td>1.302</td>\n",
       "      <td>1.5</td>\n",
       "      <td>1091117222124</td>\n",
       "      <td>1.30</td>\n",
       "      <td>121003</td>\n",
       "      <td>507101</td>\n",
       "      <td>d</td>\n",
       "      <td>Forward charges</td>\n",
       "      <td>135.0</td>\n",
       "      <td>d</td>\n",
       "      <td>1.5</td>\n",
       "      <td>90.2</td>\n",
       "      <td>44.8</td>\n",
       "    </tr>\n",
       "    <tr>\n",
       "      <th>4</th>\n",
       "      <td>2001806233</td>\n",
       "      <td>0.245</td>\n",
       "      <td>0.5</td>\n",
       "      <td>1091117222135</td>\n",
       "      <td>0.78</td>\n",
       "      <td>121003</td>\n",
       "      <td>263139</td>\n",
       "      <td>b</td>\n",
       "      <td>Forward charges</td>\n",
       "      <td>61.3</td>\n",
       "      <td>b</td>\n",
       "      <td>1.0</td>\n",
       "      <td>33.0</td>\n",
       "      <td>28.3</td>\n",
       "    </tr>\n",
       "  </tbody>\n",
       "</table>\n",
       "</div>"
      ],
      "text/plain": [
       "     Order ID  Total weight by x (kg)  Weight slab by X       AWB Code  \\\n",
       "0  2001806210                   0.220               0.5  1091117221940   \n",
       "1  2001806226                   0.480               0.5  1091117222065   \n",
       "2  2001806229                   0.500               0.5  1091117222080   \n",
       "3  2001806232                   1.302               1.5  1091117222124   \n",
       "4  2001806233                   0.245               0.5  1091117222135   \n",
       "\n",
       "   Charged Weight  Warehouse Pincode  Customer Pincode Zone Type of Shipment  \\\n",
       "0            2.92             121003            140604    b  Forward charges   \n",
       "1            0.68             121003            723146    d  Forward charges   \n",
       "2            0.71             121003            421204    d  Forward charges   \n",
       "3            1.30             121003            507101    d  Forward charges   \n",
       "4            0.78             121003            263139    b  Forward charges   \n",
       "\n",
       "   Billing Amount (Rs.) Zone by X  Weight slab charged by Courier Company  \\\n",
       "0                 174.5         b                                     2.5   \n",
       "1                  90.2         d                                     1.0   \n",
       "2                  90.2         d                                     1.0   \n",
       "3                 135.0         d                                     1.5   \n",
       "4                  61.3         b                                     1.0   \n",
       "\n",
       "   Expected charges as per X (Rs.)  \\\n",
       "0                             33.0   \n",
       "1                             45.4   \n",
       "2                             45.4   \n",
       "3                             90.2   \n",
       "4                             33.0   \n",
       "\n",
       "   Difference Between Expected Charges and Billed Charges (Rs.)  \n",
       "0                                              141.5             \n",
       "1                                               44.8             \n",
       "2                                               44.8             \n",
       "3                                               44.8             \n",
       "4                                               28.3             "
      ]
     },
     "execution_count": 20,
     "metadata": {},
     "output_type": "execute_result"
    }
   ],
   "source": [
    "# Cost Difference between X and Courier Company\n",
    "merge4['Difference Between Expected Charges and Billed Charges (Rs.)'] = merge4['Billing Amount (Rs.)'] - merge4['Expected charges as per X (Rs.)']\n",
    "merge4.head()"
   ]
  },
  {
   "cell_type": "markdown",
   "id": "e4ed8375",
   "metadata": {},
   "source": [
    "#### Output 1: Resultant Data Creation"
   ]
  },
  {
   "cell_type": "code",
   "execution_count": 21,
   "id": "cc26565b",
   "metadata": {},
   "outputs": [
    {
     "data": {
      "text/html": [
       "<div>\n",
       "<style scoped>\n",
       "    .dataframe tbody tr th:only-of-type {\n",
       "        vertical-align: middle;\n",
       "    }\n",
       "\n",
       "    .dataframe tbody tr th {\n",
       "        vertical-align: top;\n",
       "    }\n",
       "\n",
       "    .dataframe thead th {\n",
       "        text-align: right;\n",
       "    }\n",
       "</style>\n",
       "<table border=\"1\" class=\"dataframe\">\n",
       "  <thead>\n",
       "    <tr style=\"text-align: right;\">\n",
       "      <th></th>\n",
       "      <th>Order ID</th>\n",
       "      <th>AWB Number</th>\n",
       "      <th>Total weight as per X (KG)</th>\n",
       "      <th>Weight slab as per X (KG)</th>\n",
       "      <th>Total weight as per Courier Company (KG)</th>\n",
       "      <th>Weight slab charged by Courier Company (KG)</th>\n",
       "      <th>Delivery Zone as per X</th>\n",
       "      <th>Delivery Zone charged by Courier Company</th>\n",
       "      <th>Expected Charge as per X (Rs.)</th>\n",
       "      <th>Charges Billed by Courier Company (Rs.)</th>\n",
       "      <th>Difference Between Expected Charges and Billed Charges (Rs.)</th>\n",
       "    </tr>\n",
       "  </thead>\n",
       "  <tbody>\n",
       "    <tr>\n",
       "      <th>0</th>\n",
       "      <td>2001806210</td>\n",
       "      <td>1091117221940</td>\n",
       "      <td>0.220</td>\n",
       "      <td>0.5</td>\n",
       "      <td>2.92</td>\n",
       "      <td>2.5</td>\n",
       "      <td>b</td>\n",
       "      <td>b</td>\n",
       "      <td>33.0</td>\n",
       "      <td>174.5</td>\n",
       "      <td>141.5</td>\n",
       "    </tr>\n",
       "    <tr>\n",
       "      <th>1</th>\n",
       "      <td>2001806226</td>\n",
       "      <td>1091117222065</td>\n",
       "      <td>0.480</td>\n",
       "      <td>0.5</td>\n",
       "      <td>0.68</td>\n",
       "      <td>1.0</td>\n",
       "      <td>d</td>\n",
       "      <td>d</td>\n",
       "      <td>45.4</td>\n",
       "      <td>90.2</td>\n",
       "      <td>44.8</td>\n",
       "    </tr>\n",
       "    <tr>\n",
       "      <th>2</th>\n",
       "      <td>2001806229</td>\n",
       "      <td>1091117222080</td>\n",
       "      <td>0.500</td>\n",
       "      <td>0.5</td>\n",
       "      <td>0.71</td>\n",
       "      <td>1.0</td>\n",
       "      <td>d</td>\n",
       "      <td>d</td>\n",
       "      <td>45.4</td>\n",
       "      <td>90.2</td>\n",
       "      <td>44.8</td>\n",
       "    </tr>\n",
       "    <tr>\n",
       "      <th>3</th>\n",
       "      <td>2001806232</td>\n",
       "      <td>1091117222124</td>\n",
       "      <td>1.302</td>\n",
       "      <td>1.5</td>\n",
       "      <td>1.30</td>\n",
       "      <td>1.5</td>\n",
       "      <td>d</td>\n",
       "      <td>d</td>\n",
       "      <td>90.2</td>\n",
       "      <td>135.0</td>\n",
       "      <td>44.8</td>\n",
       "    </tr>\n",
       "    <tr>\n",
       "      <th>4</th>\n",
       "      <td>2001806233</td>\n",
       "      <td>1091117222135</td>\n",
       "      <td>0.245</td>\n",
       "      <td>0.5</td>\n",
       "      <td>0.78</td>\n",
       "      <td>1.0</td>\n",
       "      <td>b</td>\n",
       "      <td>b</td>\n",
       "      <td>33.0</td>\n",
       "      <td>61.3</td>\n",
       "      <td>28.3</td>\n",
       "    </tr>\n",
       "  </tbody>\n",
       "</table>\n",
       "</div>"
      ],
      "text/plain": [
       "     Order ID     AWB Number  Total weight as per X (KG)  \\\n",
       "0  2001806210  1091117221940                       0.220   \n",
       "1  2001806226  1091117222065                       0.480   \n",
       "2  2001806229  1091117222080                       0.500   \n",
       "3  2001806232  1091117222124                       1.302   \n",
       "4  2001806233  1091117222135                       0.245   \n",
       "\n",
       "   Weight slab as per X (KG)  Total weight as per Courier Company (KG)  \\\n",
       "0                        0.5                                      2.92   \n",
       "1                        0.5                                      0.68   \n",
       "2                        0.5                                      0.71   \n",
       "3                        1.5                                      1.30   \n",
       "4                        0.5                                      0.78   \n",
       "\n",
       "   Weight slab charged by Courier Company (KG) Delivery Zone as per X  \\\n",
       "0                                          2.5                      b   \n",
       "1                                          1.0                      d   \n",
       "2                                          1.0                      d   \n",
       "3                                          1.5                      d   \n",
       "4                                          1.0                      b   \n",
       "\n",
       "  Delivery Zone charged by Courier Company  Expected Charge as per X (Rs.)  \\\n",
       "0                                        b                            33.0   \n",
       "1                                        d                            45.4   \n",
       "2                                        d                            45.4   \n",
       "3                                        d                            90.2   \n",
       "4                                        b                            33.0   \n",
       "\n",
       "   Charges Billed by Courier Company (Rs.)   \\\n",
       "0                                     174.5   \n",
       "1                                      90.2   \n",
       "2                                      90.2   \n",
       "3                                     135.0   \n",
       "4                                      61.3   \n",
       "\n",
       "   Difference Between Expected Charges and Billed Charges (Rs.)  \n",
       "0                                              141.5             \n",
       "1                                               44.8             \n",
       "2                                               44.8             \n",
       "3                                               44.8             \n",
       "4                                               28.3             "
      ]
     },
     "execution_count": 21,
     "metadata": {},
     "output_type": "execute_result"
    }
   ],
   "source": [
    "Output_Data1['Order ID'] = merge4['Order ID']\n",
    "Output_Data1['AWB Number'] = merge4['AWB Code']\n",
    "Output_Data1['Total weight as per X (KG)'] = merge4['Total weight by x (kg)']\n",
    "Output_Data1['Weight slab as per X (KG)'] = merge4['Weight slab by X']\n",
    "Output_Data1['Total weight as per Courier Company (KG)'] = merge4['Charged Weight']\n",
    "Output_Data1['Weight slab charged by Courier Company (KG)'] = merge4['Weight slab charged by Courier Company']\n",
    "Output_Data1['Delivery Zone as per X'] = merge4['Zone by X']\n",
    "Output_Data1['Delivery Zone charged by Courier Company'] = merge4['Zone']\n",
    "Output_Data1['Expected Charge as per X (Rs.)'] = merge4['Expected charges as per X (Rs.)']\n",
    "Output_Data1['Charges Billed by Courier Company (Rs.) '] = merge4['Billing Amount (Rs.)']\n",
    "Output_Data1['Difference Between Expected Charges and Billed Charges (Rs.)'] = merge4['Difference Between Expected Charges and Billed Charges (Rs.)']\n",
    "Output_Data1.head()"
   ]
  },
  {
   "cell_type": "markdown",
   "id": "3c0ee2c3",
   "metadata": {},
   "source": [
    "#### Output 2: Summary Table Creation"
   ]
  },
  {
   "cell_type": "code",
   "execution_count": 22,
   "id": "5f258f57",
   "metadata": {},
   "outputs": [],
   "source": [
    "# Funtion to classify if the field is \n",
    "def get_charge_diff_sign(x):\n",
    "    if x == 0:\n",
    "        return 'Correct'\n",
    "    elif x < 0:\n",
    "        return 'Overcharged'\n",
    "    else:\n",
    "        return 'Undercharged'\n",
    "\n",
    "merge4['charge_diff'] = merge4['Difference Between Expected Charges and Billed Charges (Rs.)'].apply(get_charge_diff_sign)"
   ]
  },
  {
   "cell_type": "code",
   "execution_count": 23,
   "id": "56847f62",
   "metadata": {},
   "outputs": [
    {
     "data": {
      "text/html": [
       "<div>\n",
       "<style scoped>\n",
       "    .dataframe tbody tr th:only-of-type {\n",
       "        vertical-align: middle;\n",
       "    }\n",
       "\n",
       "    .dataframe tbody tr th {\n",
       "        vertical-align: top;\n",
       "    }\n",
       "\n",
       "    .dataframe thead th {\n",
       "        text-align: right;\n",
       "    }\n",
       "</style>\n",
       "<table border=\"1\" class=\"dataframe\">\n",
       "  <thead>\n",
       "    <tr style=\"text-align: right;\">\n",
       "      <th></th>\n",
       "      <th>Total orders</th>\n",
       "      <th>Total amount</th>\n",
       "    </tr>\n",
       "    <tr>\n",
       "      <th>charge_diff</th>\n",
       "      <th></th>\n",
       "      <th></th>\n",
       "    </tr>\n",
       "  </thead>\n",
       "  <tbody>\n",
       "    <tr>\n",
       "      <th>Correct</th>\n",
       "      <td>7</td>\n",
       "      <td>321.3</td>\n",
       "    </tr>\n",
       "    <tr>\n",
       "      <th>Overcharged</th>\n",
       "      <td>7</td>\n",
       "      <td>443.3</td>\n",
       "    </tr>\n",
       "    <tr>\n",
       "      <th>Undercharged</th>\n",
       "      <td>110</td>\n",
       "      <td>12883.6</td>\n",
       "    </tr>\n",
       "  </tbody>\n",
       "</table>\n",
       "</div>"
      ],
      "text/plain": [
       "              Total orders  Total amount\n",
       "charge_diff                             \n",
       "Correct                  7         321.3\n",
       "Overcharged              7         443.3\n",
       "Undercharged           110       12883.6"
      ]
     },
     "execution_count": 23,
     "metadata": {},
     "output_type": "execute_result"
    }
   ],
   "source": [
    "Summary_table = merge4.groupby('charge_diff').agg({'Order ID': 'count', 'Billing Amount (Rs.)': 'sum'})\n",
    "Summary_table = Summary_table.rename(columns={'Order ID': 'Total orders', 'Billing Amount (Rs.)': 'Total amount'})\n",
    "Summary_table"
   ]
  },
  {
   "cell_type": "markdown",
   "id": "62dadb85",
   "metadata": {},
   "source": [
    "#### To CSV (Output 1 & 2)"
   ]
  },
  {
   "cell_type": "code",
   "execution_count": 25,
   "id": "08f6e9fa",
   "metadata": {},
   "outputs": [],
   "source": [
    "Output_Data1.to_csv('Output_Data1.csv', index = False)\n",
    "Summary_table.to_csv('Output_Data2.csv')"
   ]
  }
 ],
 "metadata": {
  "kernelspec": {
   "display_name": "Python 3 (ipykernel)",
   "language": "python",
   "name": "python3"
  },
  "language_info": {
   "codemirror_mode": {
    "name": "ipython",
    "version": 3
   },
   "file_extension": ".py",
   "mimetype": "text/x-python",
   "name": "python",
   "nbconvert_exporter": "python",
   "pygments_lexer": "ipython3",
   "version": "3.10.7"
  }
 },
 "nbformat": 4,
 "nbformat_minor": 5
}
